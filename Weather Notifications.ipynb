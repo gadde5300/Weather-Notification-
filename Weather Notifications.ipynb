{
 "cells": [
  {
   "cell_type": "code",
   "execution_count": 261,
   "metadata": {},
   "outputs": [],
   "source": [
    "import requests #For getting the weather from he website\n",
    "from bs4 import BeautifulSoup#To pass information that is stores as a HTMl documentation\n",
    "from tkinter import Label\n",
    "#from tkinter import TK #For pop-up windows\n",
    "#from PIL import ImageTK , Image #To import image into our application\n",
    "from tkinter import *\n",
    "from PIL import ImageTk,Image"
   ]
  },
  {
   "cell_type": "code",
   "execution_count": 262,
   "metadata": {},
   "outputs": [],
   "source": [
    "url = \"https://weather.com/en-IN/weather/today/l/a292cb0c2738be0ffbd8ae631fd49924ecf988c758efe97184405bd3d34b945e\""
   ]
  },
  {
   "cell_type": "code",
   "execution_count": 263,
   "metadata": {},
   "outputs": [],
   "source": [
    "master = Tk() # For pop-up"
   ]
  },
  {
   "cell_type": "code",
   "execution_count": 264,
   "metadata": {},
   "outputs": [],
   "source": [
    "master.title(\"Weather App\")\n",
    "master.config(bg = 'White')"
   ]
  },
  {
   "cell_type": "code",
   "execution_count": 265,
   "metadata": {},
   "outputs": [],
   "source": [
    "img = Image.open('C://Users//shailesh gadde//Desktop//weather_forcast//weather-symbols-2.png')"
   ]
  },
  {
   "cell_type": "code",
   "execution_count": 266,
   "metadata": {},
   "outputs": [],
   "source": [
    "img = img.resize((150,150))"
   ]
  },
  {
   "cell_type": "code",
   "execution_count": 267,
   "metadata": {},
   "outputs": [],
   "source": [
    "img = ImageTk.PhotoImage(img)"
   ]
  },
  {
   "cell_type": "code",
   "execution_count": 268,
   "metadata": {},
   "outputs": [],
   "source": [
    "def getWeather():\n",
    "    page = requests.get(url)\n",
    "    soup = BeautifulSoup(page.content,\"html.parser\")\n",
    "    location = soup.find('h1',class_=\"_-_-node_modules-@wxu-components-src-organism-CurrentConditions-CurrentConditions--location--1Ayv3\").text\n",
    "    temperature = soup.find('span',class_=\"_-_-node_modules-@wxu-components-src-organism-CurrentConditions-CurrentConditions--tempValue--3KcTQ\").text\n",
    "    weatherPrediction = soup.find('div',class_=\"_-_-node_modules-@wxu-components-src-organism-CurrentConditions-CurrentConditions--phraseValue--2xXSr\").text\n",
    "    locationlabel.config(text=location)\n",
    "    temperaturelabel.config(text=temperature)\n",
    "    weatherPredictionLabel.config(text=weatherPrediction)\n",
    "    \n",
    "    temperaturelabel.after(60000,getWeather)\n",
    "    master.update()"
   ]
  },
  {
   "cell_type": "code",
   "execution_count": 269,
   "metadata": {},
   "outputs": [],
   "source": [
    "locationlabel = Label(master,font=(\"Calibri bold\",20),bg = \"White\")\n",
    "locationlabel.grid(row = 0,sticky  =\"N\",padx = 100)\n",
    "temperaturelabel = Label(master,font=(\"Calibri bold\",70),bg = \"White\")\n",
    "temperaturelabel.grid(row = 1,sticky  =\"W\",padx = 40)#To place it on the left side\n",
    "Label(master,image = img,bg = \"White\").grid(row=1,sticky=\"E\")\n",
    "weatherPredictionLabel = Label(master,font=(\"Calibri bold\",15),bg = \"White\")\n",
    "weatherPredictionLabel.grid(row=2,sticky=\"W\",padx=40)"
   ]
  },
  {
   "cell_type": "code",
   "execution_count": 270,
   "metadata": {},
   "outputs": [],
   "source": [
    "getWeather()"
   ]
  },
  {
   "cell_type": "code",
   "execution_count": 271,
   "metadata": {},
   "outputs": [],
   "source": [
    "master.mainloop() #To use it in a loop otherwise it pops up and go"
   ]
  }
 ],
 "metadata": {
  "kernelspec": {
   "display_name": "Python 3",
   "language": "python",
   "name": "python3"
  },
  "language_info": {
   "codemirror_mode": {
    "name": "ipython",
    "version": 3
   },
   "file_extension": ".py",
   "mimetype": "text/x-python",
   "name": "python",
   "nbconvert_exporter": "python",
   "pygments_lexer": "ipython3",
   "version": "3.8.3"
  }
 },
 "nbformat": 4,
 "nbformat_minor": 4
}
